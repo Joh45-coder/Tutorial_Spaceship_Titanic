{
 "cells": [
  {
   "cell_type": "markdown",
   "metadata": {},
   "source": [
    "# Spaceship Titanic"
   ]
  },
  {
   "cell_type": "markdown",
   "metadata": {},
   "source": [
    "This notebook is for EDA for the titanic spaceship competition on Kaggle."
   ]
  },
  {
   "cell_type": "code",
   "execution_count": 46,
   "metadata": {},
   "outputs": [],
   "source": [
    "import numpy as np\n",
    "import pandas as pd\n",
    "from sklearn.impute import SimpleImputer\n",
    "from sklearn.preprocessing import OneHotEncoder\n",
    "\n",
    "import matplotlib.pyplot as plt\n",
    "import seaborn as sns"
   ]
  },
  {
   "cell_type": "markdown",
   "metadata": {},
   "source": [
    "## 1- Import data"
   ]
  },
  {
   "cell_type": "code",
   "execution_count": 3,
   "metadata": {},
   "outputs": [],
   "source": [
    "train_data = pd.read_csv(\"./../../01_data/11_raw/train.csv\", header=0)\n",
    "test_data = pd.read_csv(\"./../../01_data/11_raw/test.csv\", header=0)\n"
   ]
  },
  {
   "cell_type": "code",
   "execution_count": 7,
   "metadata": {},
   "outputs": [],
   "source": [
    "train_data, y_train = train_data[train_data.columns.difference([\"Transported\"])], train_data[\"Transported\"]\n",
    "test_data = test_data[train_data.columns]"
   ]
  },
  {
   "cell_type": "code",
   "execution_count": 10,
   "metadata": {},
   "outputs": [
    {
     "data": {
      "text/html": [
       "<div>\n",
       "<style scoped>\n",
       "    .dataframe tbody tr th:only-of-type {\n",
       "        vertical-align: middle;\n",
       "    }\n",
       "\n",
       "    .dataframe tbody tr th {\n",
       "        vertical-align: top;\n",
       "    }\n",
       "\n",
       "    .dataframe thead th {\n",
       "        text-align: right;\n",
       "    }\n",
       "</style>\n",
       "<table border=\"1\" class=\"dataframe\">\n",
       "  <thead>\n",
       "    <tr style=\"text-align: right;\">\n",
       "      <th></th>\n",
       "      <th>Age</th>\n",
       "      <th>Cabin</th>\n",
       "      <th>CryoSleep</th>\n",
       "      <th>Destination</th>\n",
       "      <th>FoodCourt</th>\n",
       "      <th>HomePlanet</th>\n",
       "      <th>Name</th>\n",
       "      <th>PassengerId</th>\n",
       "      <th>RoomService</th>\n",
       "      <th>ShoppingMall</th>\n",
       "      <th>Spa</th>\n",
       "      <th>VIP</th>\n",
       "      <th>VRDeck</th>\n",
       "    </tr>\n",
       "  </thead>\n",
       "  <tbody>\n",
       "    <tr>\n",
       "      <th>0</th>\n",
       "      <td>39.0</td>\n",
       "      <td>B/0/P</td>\n",
       "      <td>False</td>\n",
       "      <td>TRAPPIST-1e</td>\n",
       "      <td>0.0</td>\n",
       "      <td>Europa</td>\n",
       "      <td>Maham Ofracculy</td>\n",
       "      <td>0001_01</td>\n",
       "      <td>0.0</td>\n",
       "      <td>0.0</td>\n",
       "      <td>0.0</td>\n",
       "      <td>False</td>\n",
       "      <td>0.0</td>\n",
       "    </tr>\n",
       "    <tr>\n",
       "      <th>1</th>\n",
       "      <td>24.0</td>\n",
       "      <td>F/0/S</td>\n",
       "      <td>False</td>\n",
       "      <td>TRAPPIST-1e</td>\n",
       "      <td>9.0</td>\n",
       "      <td>Earth</td>\n",
       "      <td>Juanna Vines</td>\n",
       "      <td>0002_01</td>\n",
       "      <td>109.0</td>\n",
       "      <td>25.0</td>\n",
       "      <td>549.0</td>\n",
       "      <td>False</td>\n",
       "      <td>44.0</td>\n",
       "    </tr>\n",
       "    <tr>\n",
       "      <th>2</th>\n",
       "      <td>58.0</td>\n",
       "      <td>A/0/S</td>\n",
       "      <td>False</td>\n",
       "      <td>TRAPPIST-1e</td>\n",
       "      <td>3576.0</td>\n",
       "      <td>Europa</td>\n",
       "      <td>Altark Susent</td>\n",
       "      <td>0003_01</td>\n",
       "      <td>43.0</td>\n",
       "      <td>0.0</td>\n",
       "      <td>6715.0</td>\n",
       "      <td>True</td>\n",
       "      <td>49.0</td>\n",
       "    </tr>\n",
       "    <tr>\n",
       "      <th>3</th>\n",
       "      <td>33.0</td>\n",
       "      <td>A/0/S</td>\n",
       "      <td>False</td>\n",
       "      <td>TRAPPIST-1e</td>\n",
       "      <td>1283.0</td>\n",
       "      <td>Europa</td>\n",
       "      <td>Solam Susent</td>\n",
       "      <td>0003_02</td>\n",
       "      <td>0.0</td>\n",
       "      <td>371.0</td>\n",
       "      <td>3329.0</td>\n",
       "      <td>False</td>\n",
       "      <td>193.0</td>\n",
       "    </tr>\n",
       "    <tr>\n",
       "      <th>4</th>\n",
       "      <td>16.0</td>\n",
       "      <td>F/1/S</td>\n",
       "      <td>False</td>\n",
       "      <td>TRAPPIST-1e</td>\n",
       "      <td>70.0</td>\n",
       "      <td>Earth</td>\n",
       "      <td>Willy Santantines</td>\n",
       "      <td>0004_01</td>\n",
       "      <td>303.0</td>\n",
       "      <td>151.0</td>\n",
       "      <td>565.0</td>\n",
       "      <td>False</td>\n",
       "      <td>2.0</td>\n",
       "    </tr>\n",
       "  </tbody>\n",
       "</table>\n",
       "</div>"
      ],
      "text/plain": [
       "    Age  Cabin CryoSleep  Destination  FoodCourt HomePlanet  \\\n",
       "0  39.0  B/0/P     False  TRAPPIST-1e        0.0     Europa   \n",
       "1  24.0  F/0/S     False  TRAPPIST-1e        9.0      Earth   \n",
       "2  58.0  A/0/S     False  TRAPPIST-1e     3576.0     Europa   \n",
       "3  33.0  A/0/S     False  TRAPPIST-1e     1283.0     Europa   \n",
       "4  16.0  F/1/S     False  TRAPPIST-1e       70.0      Earth   \n",
       "\n",
       "                Name PassengerId  RoomService  ShoppingMall     Spa    VIP  \\\n",
       "0    Maham Ofracculy     0001_01          0.0           0.0     0.0  False   \n",
       "1       Juanna Vines     0002_01        109.0          25.0   549.0  False   \n",
       "2      Altark Susent     0003_01         43.0           0.0  6715.0   True   \n",
       "3       Solam Susent     0003_02          0.0         371.0  3329.0  False   \n",
       "4  Willy Santantines     0004_01        303.0         151.0   565.0  False   \n",
       "\n",
       "   VRDeck  \n",
       "0     0.0  \n",
       "1    44.0  \n",
       "2    49.0  \n",
       "3   193.0  \n",
       "4     2.0  "
      ]
     },
     "execution_count": 10,
     "metadata": {},
     "output_type": "execute_result"
    }
   ],
   "source": [
    "train_data.head(5)"
   ]
  },
  {
   "cell_type": "code",
   "execution_count": 12,
   "metadata": {},
   "outputs": [
    {
     "name": "stdout",
     "output_type": "stream",
     "text": [
      "Age             179\n",
      "Cabin           199\n",
      "CryoSleep       217\n",
      "Destination     182\n",
      "FoodCourt       183\n",
      "HomePlanet      201\n",
      "Name            200\n",
      "PassengerId       0\n",
      "RoomService     181\n",
      "ShoppingMall    208\n",
      "Spa             183\n",
      "VIP             203\n",
      "VRDeck          188\n",
      "dtype: int64\n"
     ]
    }
   ],
   "source": [
    "print(train_data.isna().sum())"
   ]
  },
  {
   "cell_type": "markdown",
   "metadata": {},
   "source": [
    "## 2- Clean data"
   ]
  },
  {
   "cell_type": "code",
   "execution_count": 103,
   "metadata": {},
   "outputs": [],
   "source": [
    "train_df, test_df = train_data.copy(), test_data.copy()"
   ]
  },
  {
   "cell_type": "code",
   "execution_count": 102,
   "metadata": {},
   "outputs": [],
   "source": [
    "simple_imputer = SimpleImputer(strategy=\"most_frequent\")\n",
    "\n",
    "def cleaner(df) :\n",
    "    df = df.copy()\n",
    "    df.index = df[\"PassengerId\"]\n",
    "\n",
    "    df[\"Destination\"] = df.Destination.str[:4]\n",
    "    df[[\"CryoSleep\",\"VIP\"]] = df[[\"CryoSleep\",\"VIP\"]].astype(bool)\n",
    "    df[[\"PassengerGroup\", \"PassengerNum\"]] = df.PassengerId.str.split(\"_\", expand=True).astype(np.int32)\n",
    "    df[[\"Deck\",\"Num\",\"Side\"]] = df.Cabin.str.split(\"/\", expand=True)\n",
    "    df.drop([\"Name\",\"RoomService\",\"FoodCourt\",\"ShoppingMall\",\"Spa\",\"VRDeck\",\n",
    "             \"PassengerId\",\"PassengerNum\",\"Cabin\",\"Num\"], axis=1, inplace=True)\n",
    "    df[[\"Age\",\"Destination\",\"HomePlanet\",\"Deck\",\"Side\"]] = simple_imputer.fit_transform(df[[\"Age\",\"Destination\",\"HomePlanet\",\"Deck\",\"Side\"]])\n",
    "    return df"
   ]
  },
  {
   "cell_type": "code",
   "execution_count": 104,
   "metadata": {},
   "outputs": [],
   "source": [
    "train_df, test_df = cleaner(train_df), cleaner(test_df)"
   ]
  },
  {
   "cell_type": "code",
   "execution_count": 105,
   "metadata": {},
   "outputs": [
    {
     "data": {
      "text/html": [
       "<div>\n",
       "<style scoped>\n",
       "    .dataframe tbody tr th:only-of-type {\n",
       "        vertical-align: middle;\n",
       "    }\n",
       "\n",
       "    .dataframe tbody tr th {\n",
       "        vertical-align: top;\n",
       "    }\n",
       "\n",
       "    .dataframe thead th {\n",
       "        text-align: right;\n",
       "    }\n",
       "</style>\n",
       "<table border=\"1\" class=\"dataframe\">\n",
       "  <thead>\n",
       "    <tr style=\"text-align: right;\">\n",
       "      <th></th>\n",
       "      <th>Age</th>\n",
       "      <th>CryoSleep</th>\n",
       "      <th>Destination</th>\n",
       "      <th>HomePlanet</th>\n",
       "      <th>VIP</th>\n",
       "      <th>PassengerGroup</th>\n",
       "      <th>Deck</th>\n",
       "      <th>Side</th>\n",
       "    </tr>\n",
       "    <tr>\n",
       "      <th>PassengerId</th>\n",
       "      <th></th>\n",
       "      <th></th>\n",
       "      <th></th>\n",
       "      <th></th>\n",
       "      <th></th>\n",
       "      <th></th>\n",
       "      <th></th>\n",
       "      <th></th>\n",
       "    </tr>\n",
       "  </thead>\n",
       "  <tbody>\n",
       "    <tr>\n",
       "      <th>0001_01</th>\n",
       "      <td>39.0</td>\n",
       "      <td>False</td>\n",
       "      <td>TRAP</td>\n",
       "      <td>Europa</td>\n",
       "      <td>False</td>\n",
       "      <td>1</td>\n",
       "      <td>B</td>\n",
       "      <td>P</td>\n",
       "    </tr>\n",
       "    <tr>\n",
       "      <th>0002_01</th>\n",
       "      <td>24.0</td>\n",
       "      <td>False</td>\n",
       "      <td>TRAP</td>\n",
       "      <td>Earth</td>\n",
       "      <td>False</td>\n",
       "      <td>2</td>\n",
       "      <td>F</td>\n",
       "      <td>S</td>\n",
       "    </tr>\n",
       "    <tr>\n",
       "      <th>0003_01</th>\n",
       "      <td>58.0</td>\n",
       "      <td>False</td>\n",
       "      <td>TRAP</td>\n",
       "      <td>Europa</td>\n",
       "      <td>True</td>\n",
       "      <td>3</td>\n",
       "      <td>A</td>\n",
       "      <td>S</td>\n",
       "    </tr>\n",
       "  </tbody>\n",
       "</table>\n",
       "</div>"
      ],
      "text/plain": [
       "              Age  CryoSleep Destination HomePlanet    VIP  PassengerGroup  \\\n",
       "PassengerId                                                                  \n",
       "0001_01      39.0      False        TRAP     Europa  False               1   \n",
       "0002_01      24.0      False        TRAP      Earth  False               2   \n",
       "0003_01      58.0      False        TRAP     Europa   True               3   \n",
       "\n",
       "            Deck Side  \n",
       "PassengerId            \n",
       "0001_01        B    P  \n",
       "0002_01        F    S  \n",
       "0003_01        A    S  "
      ]
     },
     "execution_count": 105,
     "metadata": {},
     "output_type": "execute_result"
    }
   ],
   "source": [
    "train_df.head(3)"
   ]
  },
  {
   "cell_type": "code",
   "execution_count": 106,
   "metadata": {},
   "outputs": [],
   "source": [
    "encoder = OneHotEncoder(drop=\"first\")\n",
    "encoder.fit(pd.concat([train_df[[\"Destination\",\"HomePlanet\",\"Deck\",\"Side\"]],\n",
    "                     test_df[[\"Destination\",\"HomePlanet\",\"Deck\",\"Side\"]]]))\n",
    "\n",
    "def encode(df) :\n",
    "    index=df.index\n",
    "    encoded_cols = pd.DataFrame(encoder.transform(df[[\"Destination\",\"HomePlanet\",\"Deck\",\"Side\"]]).toarray(),\n",
    "                                                                    index=index, columns=encoder.get_feature_names_out())\n",
    "    \n",
    "    df.drop([\"Destination\",\"HomePlanet\",\"Deck\",\"Side\"], axis=1, inplace=True)\n",
    "    df = pd.concat([df, encoded_cols], axis=1)\n",
    "    return df"
   ]
  },
  {
   "cell_type": "code",
   "execution_count": 107,
   "metadata": {},
   "outputs": [],
   "source": [
    "train_df, test_df = encode(train_df), encode(test_df)"
   ]
  },
  {
   "cell_type": "code",
   "execution_count": 108,
   "metadata": {},
   "outputs": [
    {
     "data": {
      "text/plain": [
       "Age                  0\n",
       "CryoSleep            0\n",
       "VIP                  0\n",
       "PassengerGroup       0\n",
       "Destination_PSO      0\n",
       "Destination_TRAP     0\n",
       "HomePlanet_Europa    0\n",
       "HomePlanet_Mars      0\n",
       "Deck_B               0\n",
       "Deck_C               0\n",
       "Deck_D               0\n",
       "Deck_E               0\n",
       "Deck_F               0\n",
       "Deck_G               0\n",
       "Deck_T               0\n",
       "Side_S               0\n",
       "dtype: int64"
      ]
     },
     "execution_count": 108,
     "metadata": {},
     "output_type": "execute_result"
    }
   ],
   "source": [
    "train_df.isna().sum()"
   ]
  }
 ],
 "metadata": {
  "kernelspec": {
   "display_name": "Python 3",
   "language": "python",
   "name": "python3"
  },
  "language_info": {
   "codemirror_mode": {
    "name": "ipython",
    "version": 3
   },
   "file_extension": ".py",
   "mimetype": "text/x-python",
   "name": "python",
   "nbconvert_exporter": "python",
   "pygments_lexer": "ipython3",
   "version": "3.12.1"
  }
 },
 "nbformat": 4,
 "nbformat_minor": 2
}
